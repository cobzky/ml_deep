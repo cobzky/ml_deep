{
 "cells": [
  {
   "cell_type": "markdown",
   "metadata": {},
   "source": [
    "# Chapter 1\n",
    "\n",
    "Most important algorithms for supervised learning:\n",
    "\n",
    "* k-nearest Neighbor\n",
    "* Linear Regression\n",
    "* Logistic Regression \n",
    "* Support Vector Machines\n",
    "* Decision trees and Random Forrest\n",
    "* Neural Networks\n",
    "\n",
    "Some of the most import unsupervised learning algorithms are:\n",
    "\n",
    "* Clustering\n",
    "    - K-means\n",
    "    - DBSCAN\n",
    "    - Hierarchical Cluster Analysis\n",
    "\n",
    "* Anomaly detection and novely detection\n",
    "    - One class SVM\n",
    "    - Isolation forrest\n",
    "\n",
    "* Visualization and dimensionality reduction\n",
    "    - PCA\n",
    "    - Kernel PCA\n",
    "    - Locally Linear Embedding\n",
    "    - t-SNE\n",
    "* Accoiated rule learning\n",
    "    - Apriori\n",
    "    - Eclat\n",
    "    \n",
    "    \n",
    "There is also the problem of semi-supervised learning where only as subset of the data is labled.\n",
    "\n",
    "\n",
    "There is also the subject of reinforcement learning, which can be seen as laying in both camps (or none of them) depending on your perspective.\n",
    "\n",
    "Another dimension is batch learning vs. online learning, i.e. whether the system updates and learns over time. However, this distincion is more between how the solution is launched and monitored, rather than an algorthimic difference, since looking at the learning over time, up to point T, you could very well feed it all the data it has ut to time T as a batch, and you would have the same result.\n",
    "\n",
    "The last dimension that we could classify through is \"instance based\" vs. model based. This is related to the concept of parametric and non-parametric methods in statistics."
   ]
  },
  {
   "cell_type": "code",
   "execution_count": null,
   "metadata": {},
   "outputs": [],
   "source": []
  }
 ],
 "metadata": {
  "kernelspec": {
   "display_name": "Python 3",
   "language": "python",
   "name": "python3"
  },
  "language_info": {
   "codemirror_mode": {
    "name": "ipython",
    "version": 3
   },
   "file_extension": ".py",
   "mimetype": "text/x-python",
   "name": "python",
   "nbconvert_exporter": "python",
   "pygments_lexer": "ipython3",
   "version": "3.7.1"
  }
 },
 "nbformat": 4,
 "nbformat_minor": 2
}
