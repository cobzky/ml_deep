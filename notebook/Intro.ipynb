{
 "cells": [
  {
   "cell_type": "code",
   "execution_count": 1,
   "metadata": {},
   "outputs": [],
   "source": [
    "import tensorflow as tf\n",
    "from tensorflow import keras"
   ]
  },
  {
   "cell_type": "code",
   "execution_count": 2,
   "metadata": {},
   "outputs": [
    {
     "data": {
      "text/plain": [
       "'2.3.0'"
      ]
     },
     "execution_count": 2,
     "metadata": {},
     "output_type": "execute_result"
    }
   ],
   "source": [
    "tf.__version__"
   ]
  },
  {
   "cell_type": "code",
   "execution_count": 3,
   "metadata": {},
   "outputs": [
    {
     "data": {
      "text/plain": [
       "'2.4.0'"
      ]
     },
     "execution_count": 3,
     "metadata": {},
     "output_type": "execute_result"
    }
   ],
   "source": [
    "keras.__version__"
   ]
  },
  {
   "cell_type": "markdown",
   "metadata": {},
   "source": [
    "# Data import"
   ]
  },
  {
   "cell_type": "code",
   "execution_count": 4,
   "metadata": {},
   "outputs": [],
   "source": [
    "fashion_mnist = keras.datasets.fashion_mnist\n",
    "(X_train_full,y_train_full),(X_test,y_test) = fashion_mnist.load_data()"
   ]
  },
  {
   "cell_type": "code",
   "execution_count": 5,
   "metadata": {},
   "outputs": [
    {
     "data": {
      "text/plain": [
       "(60000, 28, 28)"
      ]
     },
     "execution_count": 5,
     "metadata": {},
     "output_type": "execute_result"
    }
   ],
   "source": [
    "X_train_full.shape"
   ]
  },
  {
   "cell_type": "code",
   "execution_count": 6,
   "metadata": {},
   "outputs": [
    {
     "data": {
      "text/plain": [
       "dtype('uint8')"
      ]
     },
     "execution_count": 6,
     "metadata": {},
     "output_type": "execute_result"
    }
   ],
   "source": [
    "X_train_full.dtype"
   ]
  },
  {
   "cell_type": "code",
   "execution_count": 7,
   "metadata": {},
   "outputs": [],
   "source": [
    "X_valid,X_train = X_train_full[:5000]/255.0,X_train_full[5000:]/255.0\n",
    "y_valid,y_train = y_train_full[:5000],y_train_full[5000:]\n",
    "X_test = X_test/255.0"
   ]
  },
  {
   "cell_type": "code",
   "execution_count": 8,
   "metadata": {},
   "outputs": [],
   "source": [
    "class_names = [\"T-shirt/Top\",\"Trouser\",\"Pullover\",\"Dress\",\"Coat\",\"Sandal\",\"Shirt\",\"Sneaker\",\"Bag\",\"Ankle boot\"]"
   ]
  },
  {
   "cell_type": "code",
   "execution_count": 9,
   "metadata": {},
   "outputs": [
    {
     "data": {
      "text/plain": [
       "'Coat'"
      ]
     },
     "execution_count": 9,
     "metadata": {},
     "output_type": "execute_result"
    }
   ],
   "source": [
    "class_names[y_train[0]]"
   ]
  },
  {
   "cell_type": "markdown",
   "metadata": {},
   "source": [
    "# Model building"
   ]
  },
  {
   "cell_type": "code",
   "execution_count": 10,
   "metadata": {},
   "outputs": [],
   "source": [
    "model = keras.models.Sequential()\n",
    "model.add(keras.layers.Flatten(input_shape = [28,28]))\n",
    "model.add(keras.layers.Dense(300,activation = \"relu\"))\n",
    "model.add(keras.layers.Dense(100,activation = \"relu\"))\n",
    "model.add(keras.layers.Dense(10,activation = \"softmax\"))"
   ]
  },
  {
   "cell_type": "code",
   "execution_count": 11,
   "metadata": {},
   "outputs": [
    {
     "name": "stdout",
     "output_type": "stream",
     "text": [
      "Model: \"sequential\"\n",
      "_________________________________________________________________\n",
      "Layer (type)                 Output Shape              Param #   \n",
      "=================================================================\n",
      "flatten (Flatten)            (None, 784)               0         \n",
      "_________________________________________________________________\n",
      "dense (Dense)                (None, 300)               235500    \n",
      "_________________________________________________________________\n",
      "dense_1 (Dense)              (None, 100)               30100     \n",
      "_________________________________________________________________\n",
      "dense_2 (Dense)              (None, 10)                1010      \n",
      "=================================================================\n",
      "Total params: 266,610\n",
      "Trainable params: 266,610\n",
      "Non-trainable params: 0\n",
      "_________________________________________________________________\n"
     ]
    }
   ],
   "source": [
    "model.summary()"
   ]
  },
  {
   "cell_type": "code",
   "execution_count": 12,
   "metadata": {},
   "outputs": [
    {
     "data": {
      "text/plain": [
       "[<tensorflow.python.keras.layers.core.Flatten at 0x1eb782763c8>,\n",
       " <tensorflow.python.keras.layers.core.Dense at 0x1eb78276c88>,\n",
       " <tensorflow.python.keras.layers.core.Dense at 0x1eb78277278>,\n",
       " <tensorflow.python.keras.layers.core.Dense at 0x1eb782773c8>]"
      ]
     },
     "execution_count": 12,
     "metadata": {},
     "output_type": "execute_result"
    }
   ],
   "source": [
    "model.layers"
   ]
  },
  {
   "cell_type": "code",
   "execution_count": 13,
   "metadata": {},
   "outputs": [],
   "source": [
    "hidden1 = model.layers[1]"
   ]
  },
  {
   "cell_type": "code",
   "execution_count": 14,
   "metadata": {},
   "outputs": [
    {
     "data": {
      "text/plain": [
       "'dense'"
      ]
     },
     "execution_count": 14,
     "metadata": {},
     "output_type": "execute_result"
    }
   ],
   "source": [
    "hidden1.name"
   ]
  },
  {
   "cell_type": "code",
   "execution_count": 15,
   "metadata": {},
   "outputs": [
    {
     "data": {
      "text/plain": [
       "True"
      ]
     },
     "execution_count": 15,
     "metadata": {},
     "output_type": "execute_result"
    }
   ],
   "source": [
    "model.get_layer(\"dense\") is hidden1"
   ]
  },
  {
   "cell_type": "code",
   "execution_count": 16,
   "metadata": {},
   "outputs": [],
   "source": [
    "weights,biases = hidden1.get_weights()"
   ]
  },
  {
   "cell_type": "code",
   "execution_count": 17,
   "metadata": {},
   "outputs": [
    {
     "data": {
      "text/plain": [
       "array([[-0.05032334,  0.03062891, -0.05754736, ...,  0.04567903,\n",
       "        -0.0244818 , -0.06181802],\n",
       "       [-0.01495697,  0.03898889,  0.06493072, ...,  0.00300671,\n",
       "         0.06125247, -0.04554524],\n",
       "       [ 0.04104658, -0.02300759,  0.03199084, ...,  0.0680175 ,\n",
       "         0.00556946, -0.03597244],\n",
       "       ...,\n",
       "       [-0.02478901,  0.01271804,  0.06177919, ...,  0.05861183,\n",
       "         0.04283158, -0.0697334 ],\n",
       "       [ 0.02746256,  0.01564503,  0.02601057, ..., -0.06165169,\n",
       "         0.04036914,  0.02451707],\n",
       "       [-0.01554558,  0.06811233, -0.02392299, ...,  0.00417845,\n",
       "         0.01374689, -0.04460657]], dtype=float32)"
      ]
     },
     "execution_count": 17,
     "metadata": {},
     "output_type": "execute_result"
    }
   ],
   "source": [
    "weights"
   ]
  },
  {
   "cell_type": "code",
   "execution_count": 18,
   "metadata": {},
   "outputs": [
    {
     "data": {
      "text/plain": [
       "(784, 300)"
      ]
     },
     "execution_count": 18,
     "metadata": {},
     "output_type": "execute_result"
    }
   ],
   "source": [
    "weights.shape"
   ]
  },
  {
   "cell_type": "code",
   "execution_count": 19,
   "metadata": {},
   "outputs": [
    {
     "data": {
      "text/plain": [
       "array([0., 0., 0., 0., 0., 0., 0., 0., 0., 0., 0., 0., 0., 0., 0., 0., 0.,\n",
       "       0., 0., 0., 0., 0., 0., 0., 0., 0., 0., 0., 0., 0., 0., 0., 0., 0.,\n",
       "       0., 0., 0., 0., 0., 0., 0., 0., 0., 0., 0., 0., 0., 0., 0., 0., 0.,\n",
       "       0., 0., 0., 0., 0., 0., 0., 0., 0., 0., 0., 0., 0., 0., 0., 0., 0.,\n",
       "       0., 0., 0., 0., 0., 0., 0., 0., 0., 0., 0., 0., 0., 0., 0., 0., 0.,\n",
       "       0., 0., 0., 0., 0., 0., 0., 0., 0., 0., 0., 0., 0., 0., 0., 0., 0.,\n",
       "       0., 0., 0., 0., 0., 0., 0., 0., 0., 0., 0., 0., 0., 0., 0., 0., 0.,\n",
       "       0., 0., 0., 0., 0., 0., 0., 0., 0., 0., 0., 0., 0., 0., 0., 0., 0.,\n",
       "       0., 0., 0., 0., 0., 0., 0., 0., 0., 0., 0., 0., 0., 0., 0., 0., 0.,\n",
       "       0., 0., 0., 0., 0., 0., 0., 0., 0., 0., 0., 0., 0., 0., 0., 0., 0.,\n",
       "       0., 0., 0., 0., 0., 0., 0., 0., 0., 0., 0., 0., 0., 0., 0., 0., 0.,\n",
       "       0., 0., 0., 0., 0., 0., 0., 0., 0., 0., 0., 0., 0., 0., 0., 0., 0.,\n",
       "       0., 0., 0., 0., 0., 0., 0., 0., 0., 0., 0., 0., 0., 0., 0., 0., 0.,\n",
       "       0., 0., 0., 0., 0., 0., 0., 0., 0., 0., 0., 0., 0., 0., 0., 0., 0.,\n",
       "       0., 0., 0., 0., 0., 0., 0., 0., 0., 0., 0., 0., 0., 0., 0., 0., 0.,\n",
       "       0., 0., 0., 0., 0., 0., 0., 0., 0., 0., 0., 0., 0., 0., 0., 0., 0.,\n",
       "       0., 0., 0., 0., 0., 0., 0., 0., 0., 0., 0., 0., 0., 0., 0., 0., 0.,\n",
       "       0., 0., 0., 0., 0., 0., 0., 0., 0., 0., 0.], dtype=float32)"
      ]
     },
     "execution_count": 19,
     "metadata": {},
     "output_type": "execute_result"
    }
   ],
   "source": [
    "biases"
   ]
  },
  {
   "cell_type": "code",
   "execution_count": 20,
   "metadata": {},
   "outputs": [
    {
     "data": {
      "text/plain": [
       "(300,)"
      ]
     },
     "execution_count": 20,
     "metadata": {},
     "output_type": "execute_result"
    }
   ],
   "source": [
    "biases.shape"
   ]
  },
  {
   "cell_type": "code",
   "execution_count": 21,
   "metadata": {},
   "outputs": [],
   "source": [
    "model.compile(loss = \"sparse_categorical_crossentropy\",optimizer = \"sgd\",metrics = [\"accuracy\"])"
   ]
  },
  {
   "cell_type": "code",
   "execution_count": 22,
   "metadata": {},
   "outputs": [
    {
     "name": "stdout",
     "output_type": "stream",
     "text": [
      "Epoch 1/30\n",
      "1719/1719 [==============================] - 3s 1ms/step - loss: 0.7181 - accuracy: 0.7637 - val_loss: 0.5154 - val_accuracy: 0.8238\n",
      "Epoch 2/30\n",
      "1719/1719 [==============================] - 2s 1ms/step - loss: 0.4826 - accuracy: 0.8334 - val_loss: 0.4804 - val_accuracy: 0.8376\n",
      "Epoch 3/30\n",
      "1719/1719 [==============================] - 2s 1ms/step - loss: 0.4393 - accuracy: 0.8464 - val_loss: 0.4168 - val_accuracy: 0.8596\n",
      "Epoch 4/30\n",
      "1719/1719 [==============================] - 2s 1ms/step - loss: 0.4117 - accuracy: 0.8556 - val_loss: 0.4065 - val_accuracy: 0.8622\n",
      "Epoch 5/30\n",
      "1719/1719 [==============================] - 2s 1ms/step - loss: 0.3921 - accuracy: 0.8625 - val_loss: 0.3854 - val_accuracy: 0.8676\n",
      "Epoch 6/30\n",
      "1719/1719 [==============================] - 2s 1ms/step - loss: 0.3770 - accuracy: 0.8677 - val_loss: 0.3740 - val_accuracy: 0.8662\n",
      "Epoch 7/30\n",
      "1719/1719 [==============================] - 2s 1ms/step - loss: 0.3638 - accuracy: 0.8707 - val_loss: 0.3555 - val_accuracy: 0.8760\n",
      "Epoch 8/30\n",
      "1719/1719 [==============================] - 2s 1ms/step - loss: 0.3533 - accuracy: 0.8745 - val_loss: 0.3542 - val_accuracy: 0.8778\n",
      "Epoch 9/30\n",
      "1719/1719 [==============================] - 2s 1ms/step - loss: 0.3425 - accuracy: 0.8777 - val_loss: 0.3477 - val_accuracy: 0.8764\n",
      "Epoch 10/30\n",
      "1719/1719 [==============================] - 2s 1ms/step - loss: 0.3333 - accuracy: 0.8805 - val_loss: 0.3599 - val_accuracy: 0.8710\n",
      "Epoch 11/30\n",
      "1719/1719 [==============================] - 2s 1ms/step - loss: 0.3240 - accuracy: 0.8845 - val_loss: 0.3615 - val_accuracy: 0.8728\n",
      "Epoch 12/30\n",
      "1719/1719 [==============================] - 2s 1ms/step - loss: 0.3172 - accuracy: 0.8851 - val_loss: 0.3481 - val_accuracy: 0.8766\n",
      "Epoch 13/30\n",
      "1719/1719 [==============================] - 2s 1ms/step - loss: 0.3090 - accuracy: 0.8889 - val_loss: 0.3390 - val_accuracy: 0.8810curacy: \n",
      "Epoch 14/30\n",
      "1719/1719 [==============================] - 2s 1ms/step - loss: 0.3023 - accuracy: 0.8914 - val_loss: 0.3168 - val_accuracy: 0.8902\n",
      "Epoch 15/30\n",
      "1719/1719 [==============================] - 2s 1ms/step - loss: 0.2969 - accuracy: 0.8923 - val_loss: 0.3218 - val_accuracy: 0.8846\n",
      "Epoch 16/30\n",
      "1719/1719 [==============================] - 2s 1ms/step - loss: 0.2909 - accuracy: 0.8960 - val_loss: 0.3159 - val_accuracy: 0.8894\n",
      "Epoch 17/30\n",
      "1719/1719 [==============================] - 2s 1ms/step - loss: 0.2843 - accuracy: 0.8972 - val_loss: 0.3197 - val_accuracy: 0.8848\n",
      "Epoch 18/30\n",
      "1719/1719 [==============================] - 2s 1ms/step - loss: 0.2793 - accuracy: 0.8999 - val_loss: 0.3114 - val_accuracy: 0.8928\n",
      "Epoch 19/30\n",
      "1719/1719 [==============================] - 2s 1ms/step - loss: 0.2740 - accuracy: 0.9019 - val_loss: 0.3189 - val_accuracy: 0.8852\n",
      "Epoch 20/30\n",
      "1719/1719 [==============================] - 2s 1ms/step - loss: 0.2700 - accuracy: 0.9031 - val_loss: 0.3135 - val_accuracy: 0.8894\n",
      "Epoch 21/30\n",
      "1719/1719 [==============================] - 2s 1ms/step - loss: 0.2642 - accuracy: 0.9049 - val_loss: 0.3056 - val_accuracy: 0.8942\n",
      "Epoch 22/30\n",
      "1719/1719 [==============================] - 2s 1ms/step - loss: 0.2605 - accuracy: 0.9064 - val_loss: 0.3114 - val_accuracy: 0.8892\n",
      "Epoch 23/30\n",
      "1719/1719 [==============================] - 2s 1ms/step - loss: 0.2541 - accuracy: 0.9080 - val_loss: 0.3132 - val_accuracy: 0.8890\n",
      "Epoch 24/30\n",
      "1719/1719 [==============================] - 2s 1ms/step - loss: 0.2504 - accuracy: 0.9094 - val_loss: 0.3189 - val_accuracy: 0.8866\n",
      "Epoch 25/30\n",
      "1719/1719 [==============================] - 2s 1ms/step - loss: 0.2460 - accuracy: 0.9107 - val_loss: 0.2989 - val_accuracy: 0.8900\n",
      "Epoch 26/30\n",
      "1719/1719 [==============================] - 2s 1ms/step - loss: 0.2426 - accuracy: 0.9131 - val_loss: 0.3098 - val_accuracy: 0.8890\n",
      "Epoch 27/30\n",
      "1719/1719 [==============================] - 2s 1ms/step - loss: 0.2392 - accuracy: 0.9144 - val_loss: 0.3104 - val_accuracy: 0.8892\n",
      "Epoch 28/30\n",
      "1719/1719 [==============================] - 2s 1ms/step - loss: 0.2345 - accuracy: 0.9153 - val_loss: 0.3128 - val_accuracy: 0.88840s - loss: 0.2355 -  - ETA: 0s - loss: 0.2345 - accuracy: 0.91\n",
      "Epoch 29/30\n",
      "1719/1719 [==============================] - 2s 1ms/step - loss: 0.2313 - accuracy: 0.9166 - val_loss: 0.2909 - val_accuracy: 0.8952\n",
      "Epoch 30/30\n",
      "1719/1719 [==============================] - 2s 1ms/step - loss: 0.2270 - accuracy: 0.9177 - val_loss: 0.3107 - val_accuracy: 0.8878\n"
     ]
    }
   ],
   "source": [
    "history = model.fit(X_train,y_train,epochs = 30,validation_data = (X_valid,y_valid))"
   ]
  },
  {
   "cell_type": "code",
   "execution_count": 23,
   "metadata": {},
   "outputs": [],
   "source": [
    "import pandas as pd\n",
    "import matplotlib.pyplot as plt"
   ]
  },
  {
   "cell_type": "code",
   "execution_count": 24,
   "metadata": {},
   "outputs": [
    {
     "data": {
      "image/png": "[encoded data removed]",
      "text/plain": [
       "<Figure size 720x504 with 1 Axes>"
      ]
     },
     "metadata": {
      "needs_background": "light"
     },
     "output_type": "display_data"
    }
   ],
   "source": [
    "pd.DataFrame(history.history).plot(figsize = (10,7))\n",
    "plt.grid(True)\n",
    "plt.gca().set_ylim(0,1)\n",
    "plt.show()"
   ]
  },
  {
   "cell_type": "code",
   "execution_count": 25,
   "metadata": {},
   "outputs": [],
   "source": [
    "X_new = X_test[:3]"
   ]
  },
  {
   "cell_type": "code",
   "execution_count": 26,
   "metadata": {},
   "outputs": [],
   "source": [
    "y_proba = model.predict(X_new)"
   ]
  },
  {
   "cell_type": "code",
   "execution_count": 27,
   "metadata": {},
   "outputs": [
    {
     "data": {
      "text/plain": [
       "array([[0.  , 0.  , 0.  , 0.  , 0.  , 0.  , 0.  , 0.01, 0.  , 0.99],\n",
       "       [0.  , 0.  , 1.  , 0.  , 0.  , 0.  , 0.  , 0.  , 0.  , 0.  ],\n",
       "       [0.  , 1.  , 0.  , 0.  , 0.  , 0.  , 0.  , 0.  , 0.  , 0.  ]],\n",
       "      dtype=float32)"
      ]
     },
     "execution_count": 27,
     "metadata": {},
     "output_type": "execute_result"
    }
   ],
   "source": [
    "y_proba.round(2)"
   ]
  },
  {
   "cell_type": "markdown",
   "metadata": {},
   "source": [
    "# MLP regression"
   ]
  },
  {
   "cell_type": "code",
   "execution_count": 29,
   "metadata": {},
   "outputs": [],
   "source": [
    "from sklearn.datasets import fetch_california_housing\n",
    "from sklearn.model_selection import train_test_split\n",
    "from sklearn.preprocessing import StandardScaler"
   ]
  },
  {
   "cell_type": "code",
   "execution_count": 30,
   "metadata": {},
   "outputs": [
    {
     "name": "stderr",
     "output_type": "stream",
     "text": [
      "Downloading Cal. housing from https://ndownloader.figshare.com/files/5976036 to C:\\Users\\jacob.westman\\scikit_learn_data\n"
     ]
    }
   ],
   "source": [
    "housing = fetch_california_housing()"
   ]
  },
  {
   "cell_type": "code",
   "execution_count": 31,
   "metadata": {},
   "outputs": [],
   "source": [
    "X_train_full,X_test,y_train_full,y_test = train_test_split(housing.data,housing.target)\n",
    "X_train,X_valid,y_train,y_valid = train_test_split(X_train_full,y_train_full)"
   ]
  },
  {
   "cell_type": "code",
   "execution_count": 33,
   "metadata": {},
   "outputs": [],
   "source": [
    "scaler = StandardScaler()\n",
    "X_train = scaler.fit_transform(X_train)\n",
    "X_valid = scaler.transform(X_valid)\n",
    "X_test = scaler.transform(X_test)"
   ]
  },
  {
   "cell_type": "code",
   "execution_count": 34,
   "metadata": {},
   "outputs": [],
   "source": [
    "model = keras.models.Sequential([\n",
    "    keras.layers.Dense(30,activation = 'relu',input_shape = X_train.shape[1:]),\n",
    "    keras.layers.Dense(1)\n",
    "    \n",
    "])"
   ]
  },
  {
   "cell_type": "code",
   "execution_count": 35,
   "metadata": {},
   "outputs": [],
   "source": [
    "model.compile(loss = 'mean_squared_error',optimizer = 'sgd')"
   ]
  },
  {
   "cell_type": "code",
   "execution_count": 37,
   "metadata": {},
   "outputs": [
    {
     "name": "stdout",
     "output_type": "stream",
     "text": [
      "Epoch 1/20\n",
      "363/363 [==============================] - 0s 1ms/step - loss: 1.0786 - val_loss: 0.6171\n",
      "Epoch 2/20\n",
      "363/363 [==============================] - 0s 867us/step - loss: 1.3317 - val_loss: 0.7251\n",
      "Epoch 3/20\n",
      "363/363 [==============================] - 0s 900us/step - loss: 0.5147 - val_loss: 0.5146\n",
      "Epoch 4/20\n",
      "363/363 [==============================] - 0s 899us/step - loss: 0.4603 - val_loss: 0.4828\n",
      "Epoch 5/20\n",
      "363/363 [==============================] - 0s 895us/step - loss: 0.4387 - val_loss: 0.4595\n",
      "Epoch 6/20\n",
      "363/363 [==============================] - 0s 948us/step - loss: 0.4271 - val_loss: 0.4483\n",
      "Epoch 7/20\n",
      "363/363 [==============================] - 0s 956us/step - loss: 0.4164 - val_loss: 0.4421\n",
      "Epoch 8/20\n",
      "363/363 [==============================] - 0s 895us/step - loss: 0.4090 - val_loss: 0.4342\n",
      "Epoch 9/20\n",
      "363/363 [==============================] - 0s 910us/step - loss: 0.4036 - val_loss: 0.4329\n",
      "Epoch 10/20\n",
      "363/363 [==============================] - 0s 914us/step - loss: 0.4060 - val_loss: 0.4236\n",
      "Epoch 11/20\n",
      "363/363 [==============================] - 0s 903us/step - loss: 0.3962 - val_loss: 0.4239\n",
      "Epoch 12/20\n",
      "363/363 [==============================] - 0s 953us/step - loss: 0.3954 - val_loss: 0.4191\n",
      "Epoch 13/20\n",
      "363/363 [==============================] - 0s 909us/step - loss: 0.3901 - val_loss: 0.4127\n",
      "Epoch 14/20\n",
      "363/363 [==============================] - 0s 906us/step - loss: 0.3879 - val_loss: 0.4305\n",
      "Epoch 15/20\n",
      "363/363 [==============================] - 0s 893us/step - loss: 0.3860 - val_loss: 0.4071\n",
      "Epoch 16/20\n",
      "363/363 [==============================] - 0s 915us/step - loss: 0.3796 - val_loss: 0.4023\n",
      "Epoch 17/20\n",
      "363/363 [==============================] - 0s 914us/step - loss: 0.3764 - val_loss: 0.4003\n",
      "Epoch 18/20\n",
      "363/363 [==============================] - 0s 928us/step - loss: 0.3750 - val_loss: 0.4078\n",
      "Epoch 19/20\n",
      "363/363 [==============================] - 0s 916us/step - loss: 0.3719 - val_loss: 0.3964\n",
      "Epoch 20/20\n",
      "363/363 [==============================] - 0s 909us/step - loss: 0.3695 - val_loss: 0.3966\n"
     ]
    }
   ],
   "source": [
    "history = model.fit(X_train,y_train,epochs = 20,validation_data = (X_valid,y_valid))"
   ]
  },
  {
   "cell_type": "code",
   "execution_count": 38,
   "metadata": {},
   "outputs": [
    {
     "name": "stdout",
     "output_type": "stream",
     "text": [
      "162/162 [==============================] - 0s 593us/step - loss: 0.3794\n"
     ]
    }
   ],
   "source": [
    "mse_test = model.evaluate(X_test,y_test)"
   ]
  },
  {
   "cell_type": "code",
   "execution_count": 39,
   "metadata": {},
   "outputs": [],
   "source": [
    "X_new = X_test[:3]\n",
    "y_pred = model.predict(X_new)"
   ]
  },
  {
   "cell_type": "code",
   "execution_count": 40,
   "metadata": {},
   "outputs": [
    {
     "data": {
      "text/plain": [
       "array([[1.3706614],\n",
       "       [2.6173577],\n",
       "       [1.1465565]], dtype=float32)"
      ]
     },
     "execution_count": 40,
     "metadata": {},
     "output_type": "execute_result"
    }
   ],
   "source": [
    "y_pred"
   ]
  },
  {
   "cell_type": "code",
   "execution_count": 41,
   "metadata": {},
   "outputs": [
    {
     "data": {
      "image/png": "[encoded data removed]",
      "text/plain": [
       "<Figure size 720x504 with 1 Axes>"
      ]
     },
     "metadata": {
      "needs_background": "light"
     },
     "output_type": "display_data"
    }
   ],
   "source": [
    "pd.DataFrame(history.history).plot(figsize = (10,7))\n",
    "plt.grid(True)\n",
    "plt.gca().set_ylim(0,1)\n",
    "plt.show()"
   ]
  },
  {
   "cell_type": "markdown",
   "metadata": {},
   "source": [
    "# Wide and deep model"
   ]
  },
  {
   "cell_type": "code",
   "execution_count": 45,
   "metadata": {},
   "outputs": [
    {
     "data": {
      "text/plain": [
       "(8,)"
      ]
     },
     "execution_count": 45,
     "metadata": {},
     "output_type": "execute_result"
    }
   ],
   "source": [
    "X_train.shape[1:]"
   ]
  },
  {
   "cell_type": "code",
   "execution_count": 44,
   "metadata": {},
   "outputs": [],
   "source": [
    "input_ = keras.layers.Input(shape = X_train.shape[1:])\n",
    "hidden1 = keras.layers.Dense(30,activation = 'relu')(input_)\n",
    "hidden2 = keras.layers.Dense(30,activation = 'relu')(hidden1)\n",
    "concat = keras.layers.Concatenate()([input_,hidden2])\n",
    "output = keras.layers.Dense(1)(concat)\n",
    "model = keras.Model(inputs=[input_],outputs = [output])"
   ]
  },
  {
   "cell_type": "code",
   "execution_count": 49,
   "metadata": {},
   "outputs": [
    {
     "name": "stdout",
     "output_type": "stream",
     "text": [
      "Epoch 1/20\n",
      "363/363 [==============================] - 0s 1ms/step - loss: nan - val_loss: nan\n",
      "Epoch 2/20\n",
      "363/363 [==============================] - 0s 929us/step - loss: nan - val_loss: nan\n",
      "Epoch 3/20\n",
      "363/363 [==============================] - 0s 960us/step - loss: nan - val_loss: nan\n",
      "Epoch 4/20\n",
      "363/363 [==============================] - 0s 975us/step - loss: nan - val_loss: nan\n",
      "Epoch 5/20\n",
      "363/363 [==============================] - 0s 963us/step - loss: nan - val_loss: nan\n",
      "Epoch 6/20\n",
      "363/363 [==============================] - 0s 966us/step - loss: nan - val_loss: nan\n",
      "Epoch 7/20\n",
      "363/363 [==============================] - 0s 953us/step - loss: nan - val_loss: nan\n",
      "Epoch 8/20\n",
      "363/363 [==============================] - 0s 983us/step - loss: nan - val_loss: nan\n",
      "Epoch 9/20\n",
      "363/363 [==============================] - 0s 948us/step - loss: nan - val_loss: nan\n",
      "Epoch 10/20\n",
      "363/363 [==============================] - 0s 950us/step - loss: nan - val_loss: nan\n",
      "Epoch 11/20\n",
      "363/363 [==============================] - 0s 975us/step - loss: nan - val_loss: nan\n",
      "Epoch 12/20\n",
      "363/363 [==============================] - 0s 950us/step - loss: nan - val_loss: nan\n",
      "Epoch 13/20\n",
      "363/363 [==============================] - 0s 954us/step - loss: nan - val_loss: nan\n",
      "Epoch 14/20\n",
      "363/363 [==============================] - 0s 952us/step - loss: nan - val_loss: nan\n",
      "Epoch 15/20\n",
      "363/363 [==============================] - 0s 958us/step - loss: nan - val_loss: nan\n",
      "Epoch 16/20\n",
      "363/363 [==============================] - 0s 976us/step - loss: nan - val_loss: nan\n",
      "Epoch 17/20\n",
      "363/363 [==============================] - 0s 981us/step - loss: nan - val_loss: nan\n",
      "Epoch 18/20\n",
      "363/363 [==============================] - 0s 953us/step - loss: nan - val_loss: nan\n",
      "Epoch 19/20\n",
      "363/363 [==============================] - 0s 957us/step - loss: nan - val_loss: nan\n",
      "Epoch 20/20\n",
      "363/363 [==============================] - 0s 946us/step - loss: nan - val_loss: nan\n"
     ]
    }
   ],
   "source": [
    "model.compile(loss = 'mse',optimizer = keras.optimizers.SGD(lr=1e-3))\n",
    "history = model.fit(X_train,y_train,epochs = 20,validation_data = (X_valid,y_valid))"
   ]
  },
  {
   "cell_type": "code",
   "execution_count": 67,
   "metadata": {},
   "outputs": [],
   "source": [
    "input_A = keras.layers.Input(shape = [5],name = 'wide_input')\n",
    "input_B = keras.layers.Input(shape = [6],name = 'deep_input')\n",
    "hidden1 = keras.layers.Dense(30,activation = 'relu')(input_B)\n",
    "hidden2 = keras.layers.Dense(30,activation = 'relu')(hidden1)\n",
    "concat = keras.layers.concatenate([input_A,hidden2])\n",
    "output = keras.layers.Dense(1,name = 'output')(concat)\n",
    "model = keras.Model(inputs=[input_A,input_B],outputs = [output])"
   ]
  },
  {
   "cell_type": "code",
   "execution_count": 68,
   "metadata": {},
   "outputs": [],
   "source": [
    "model.compile(loss = 'mse', optimizer = keras.optimizers.SGD(lr = 1e-3))"
   ]
  },
  {
   "cell_type": "code",
   "execution_count": 64,
   "metadata": {},
   "outputs": [],
   "source": [
    "X_train_A,X_train_B = X_train[:,:5],X_train[:,2:]\n",
    "X_valid_A,X_valid_B = X_valid[:,:5],X_valid[:,2:]\n",
    "X_test_A,X_test_B = X_test[:,:5],X_test[:,2:]\n",
    "X_new_A,X_new_B = X_test_A[:3],X_test_B[:3]"
   ]
  },
  {
   "cell_type": "code",
   "execution_count": 54,
   "metadata": {},
   "outputs": [
    {
     "name": "stdout",
     "output_type": "stream",
     "text": [
      "Epoch 1/20\n",
      "  1/363 [..............................] - ETA: 0s - loss: 5.4865WARNING:tensorflow:Callbacks method `on_train_batch_begin` is slow compared to the batch time (batch time: 0.0000s vs `on_train_batch_begin` time: 0.0010s). Check your callbacks.\n",
      "363/363 [==============================] - 0s 1ms/step - loss: 2.2184 - val_loss: 0.8817\n",
      "Epoch 2/20\n",
      "363/363 [==============================] - 0s 981us/step - loss: 0.7942 - val_loss: 0.7131\n",
      "Epoch 3/20\n",
      "363/363 [==============================] - 0s 975us/step - loss: 0.6419 - val_loss: 0.6498\n",
      "Epoch 4/20\n",
      "363/363 [==============================] - 0s 964us/step - loss: 0.5983 - val_loss: 0.6167\n",
      "Epoch 5/20\n",
      "363/363 [==============================] - 0s 978us/step - loss: 0.5690 - val_loss: 0.5899\n",
      "Epoch 6/20\n",
      "363/363 [==============================] - 0s 909us/step - loss: 0.5465 - val_loss: 0.5687\n",
      "Epoch 7/20\n",
      "363/363 [==============================] - 0s 973us/step - loss: 0.5314 - val_loss: 0.5529\n",
      "Epoch 8/20\n",
      "363/363 [==============================] - 0s 1ms/step - loss: 0.5176 - val_loss: 0.5408\n",
      "Epoch 9/20\n",
      "363/363 [==============================] - 0s 975us/step - loss: 0.5092 - val_loss: 0.5303\n",
      "Epoch 10/20\n",
      "363/363 [==============================] - 0s 993us/step - loss: 0.5014 - val_loss: 0.5229\n",
      "Epoch 11/20\n",
      "363/363 [==============================] - 0s 981us/step - loss: 0.4921 - val_loss: 0.5162\n",
      "Epoch 12/20\n",
      "363/363 [==============================] - 0s 968us/step - loss: 0.4926 - val_loss: 0.5117\n",
      "Epoch 13/20\n",
      "363/363 [==============================] - 0s 974us/step - loss: 0.4876 - val_loss: 0.5068\n",
      "Epoch 14/20\n",
      "363/363 [==============================] - 0s 971us/step - loss: 0.4815 - val_loss: 0.5038\n",
      "Epoch 15/20\n",
      "363/363 [==============================] - 0s 975us/step - loss: 0.4803 - val_loss: 0.4990\n",
      "Epoch 16/20\n",
      "363/363 [==============================] - 0s 987us/step - loss: 0.4767 - val_loss: 0.4970\n",
      "Epoch 17/20\n",
      "363/363 [==============================] - 0s 968us/step - loss: 0.4751 - val_loss: 0.4951\n",
      "Epoch 18/20\n",
      "363/363 [==============================] - 0s 966us/step - loss: 0.4720 - val_loss: 0.4922\n",
      "Epoch 19/20\n",
      "363/363 [==============================] - 0s 1ms/step - loss: 0.4723 - val_loss: 0.4893\n",
      "Epoch 20/20\n",
      "363/363 [==============================] - 0s 996us/step - loss: 0.4672 - val_loss: 0.4864\n"
     ]
    }
   ],
   "source": [
    "history = model.fit((X_train_A,X_train_B),y_train,epochs = 20,\n",
    "                   validation_data = ((X_valid_A,X_valid_B),y_valid))"
   ]
  },
  {
   "cell_type": "code",
   "execution_count": 55,
   "metadata": {},
   "outputs": [
    {
     "data": {
      "image/png": "[encoded data removed]",
      "text/plain": [
       "<Figure size 720x504 with 1 Axes>"
      ]
     },
     "metadata": {
      "needs_background": "light"
     },
     "output_type": "display_data"
    }
   ],
   "source": [
    "pd.DataFrame(history.history).plot(figsize = (10,7))\n",
    "plt.grid(True)\n",
    "plt.gca().set_ylim(0,1)\n",
    "plt.show()"
   ]
  },
  {
   "cell_type": "code",
   "execution_count": 56,
   "metadata": {},
   "outputs": [
    {
     "name": "stdout",
     "output_type": "stream",
     "text": [
      "162/162 [==============================] - 0s 710us/step - loss: 0.4751\n"
     ]
    }
   ],
   "source": [
    "mse_test = model.evaluate((X_test_A,X_test_B),y_test)"
   ]
  },
  {
   "cell_type": "code",
   "execution_count": 57,
   "metadata": {},
   "outputs": [],
   "source": [
    "y_pred = model.predict((X_new_A,X_new_B))"
   ]
  },
  {
   "cell_type": "code",
   "execution_count": 58,
   "metadata": {},
   "outputs": [
    {
     "data": {
      "text/plain": [
       "array([[1.4921361 ],\n",
       "       [2.590654  ],\n",
       "       [0.96115875]], dtype=float32)"
      ]
     },
     "execution_count": 58,
     "metadata": {},
     "output_type": "execute_result"
    }
   ],
   "source": [
    "y_pred"
   ]
  },
  {
   "cell_type": "markdown",
   "metadata": {},
   "source": [
    "# Checkpoints and early stopping"
   ]
  },
  {
   "cell_type": "code",
   "execution_count": 71,
   "metadata": {},
   "outputs": [
    {
     "name": "stdout",
     "output_type": "stream",
     "text": [
      "Epoch 1/400\n",
      "363/363 [==============================] - 0s 1ms/step - loss: 0.3127 - val_loss: 0.3338\n",
      "Epoch 2/400\n",
      "363/363 [==============================] - 0s 1ms/step - loss: 0.3122 - val_loss: 0.3315\n",
      "Epoch 3/400\n",
      "363/363 [==============================] - 0s 1ms/step - loss: 0.3113 - val_loss: 0.3320\n",
      "Epoch 4/400\n",
      "363/363 [==============================] - 0s 984us/step - loss: 0.3130 - val_loss: 0.3332\n",
      "Epoch 5/400\n",
      "363/363 [==============================] - 0s 1ms/step - loss: 0.3114 - val_loss: 0.3314\n",
      "Epoch 6/400\n",
      "363/363 [==============================] - 0s 996us/step - loss: 0.3118 - val_loss: 0.3315\n",
      "Epoch 7/400\n",
      "363/363 [==============================] - 0s 982us/step - loss: 0.3123 - val_loss: 0.3339\n",
      "Epoch 8/400\n",
      "363/363 [==============================] - 0s 983us/step - loss: 0.3146 - val_loss: 0.3316\n",
      "Epoch 9/400\n",
      "363/363 [==============================] - 0s 973us/step - loss: 0.3116 - val_loss: 0.3316\n",
      "Epoch 10/400\n",
      "363/363 [==============================] - 0s 987us/step - loss: 0.3110 - val_loss: 0.3320\n",
      "Epoch 11/400\n",
      "363/363 [==============================] - 0s 1ms/step - loss: 0.3120 - val_loss: 0.3306\n",
      "Epoch 12/400\n",
      "363/363 [==============================] - 0s 986us/step - loss: 0.3109 - val_loss: 0.3311\n",
      "Epoch 13/400\n",
      "363/363 [==============================] - 0s 995us/step - loss: 0.3112 - val_loss: 0.3319\n",
      "Epoch 14/400\n",
      "363/363 [==============================] - 0s 993us/step - loss: 0.3109 - val_loss: 0.3313\n",
      "Epoch 15/400\n",
      "363/363 [==============================] - 0s 976us/step - loss: 0.3118 - val_loss: 0.3326\n",
      "Epoch 16/400\n",
      "363/363 [==============================] - 0s 1ms/step - loss: 0.3106 - val_loss: 0.3306\n",
      "Epoch 17/400\n",
      "363/363 [==============================] - 0s 1ms/step - loss: 0.3112 - val_loss: 0.3308\n",
      "Epoch 18/400\n",
      "363/363 [==============================] - 0s 987us/step - loss: 0.3111 - val_loss: 0.3312\n",
      "Epoch 19/400\n",
      "363/363 [==============================] - 0s 995us/step - loss: 0.3136 - val_loss: 0.3315\n",
      "Epoch 20/400\n",
      "363/363 [==============================] - 0s 1ms/step - loss: 0.3105 - val_loss: 0.3316\n",
      "Epoch 21/400\n",
      "363/363 [==============================] - 0s 988us/step - loss: 0.3099 - val_loss: 0.3343\n",
      "Epoch 22/400\n",
      "363/363 [==============================] - 0s 989us/step - loss: 0.3110 - val_loss: 0.3340\n",
      "Epoch 23/400\n",
      "363/363 [==============================] - 0s 1ms/step - loss: 0.3114 - val_loss: 0.3306\n",
      "Epoch 24/400\n",
      "363/363 [==============================] - 0s 1ms/step - loss: 0.3107 - val_loss: 0.3296\n",
      "Epoch 25/400\n",
      "363/363 [==============================] - 0s 987us/step - loss: 0.3098 - val_loss: 0.3308\n",
      "Epoch 26/400\n",
      "363/363 [==============================] - 0s 975us/step - loss: 0.3102 - val_loss: 0.3307\n",
      "Epoch 27/400\n",
      "363/363 [==============================] - 0s 1ms/step - loss: 0.3103 - val_loss: 0.3289\n",
      "Epoch 28/400\n",
      "363/363 [==============================] - 0s 984us/step - loss: 0.3113 - val_loss: 0.3303\n",
      "Epoch 29/400\n",
      "363/363 [==============================] - 0s 974us/step - loss: 0.3114 - val_loss: 0.3319\n",
      "Epoch 30/400\n",
      "363/363 [==============================] - 0s 997us/step - loss: 0.3147 - val_loss: 0.3292\n",
      "Epoch 31/400\n",
      "363/363 [==============================] - 0s 974us/step - loss: 0.3094 - val_loss: 0.3314\n",
      "Epoch 32/400\n",
      "363/363 [==============================] - 0s 979us/step - loss: 0.3093 - val_loss: 0.3310\n",
      "Epoch 33/400\n",
      "363/363 [==============================] - 0s 982us/step - loss: 0.3101 - val_loss: 0.3293\n",
      "Epoch 34/400\n",
      "363/363 [==============================] - 0s 978us/step - loss: 0.3093 - val_loss: 0.3297\n",
      "Epoch 35/400\n",
      "363/363 [==============================] - 0s 1ms/step - loss: 0.3090 - val_loss: 0.3286\n",
      "Epoch 36/400\n",
      "363/363 [==============================] - 0s 1ms/step - loss: 0.3102 - val_loss: 0.3310\n",
      "Epoch 37/400\n",
      "363/363 [==============================] - 0s 876us/step - loss: 0.3110 - val_loss: 0.3289\n",
      "Epoch 38/400\n",
      "363/363 [==============================] - 0s 987us/step - loss: 0.3102 - val_loss: 0.3301\n",
      "Epoch 39/400\n",
      "363/363 [==============================] - 0s 972us/step - loss: 0.3094 - val_loss: 0.3314\n",
      "Epoch 40/400\n",
      "363/363 [==============================] - 0s 1ms/step - loss: 0.3092 - val_loss: 0.3284\n",
      "Epoch 41/400\n",
      "363/363 [==============================] - 0s 999us/step - loss: 0.3100 - val_loss: 0.3304\n",
      "Epoch 42/400\n",
      "363/363 [==============================] - 0s 973us/step - loss: 0.3105 - val_loss: 0.3304\n",
      "Epoch 43/400\n",
      "363/363 [==============================] - 0s 990us/step - loss: 0.3097 - val_loss: 0.3298\n",
      "Epoch 44/400\n",
      "363/363 [==============================] - 0s 1ms/step - loss: 0.3090 - val_loss: 0.3280\n",
      "Epoch 45/400\n",
      "363/363 [==============================] - 0s 980us/step - loss: 0.3089 - val_loss: 0.3294\n",
      "Epoch 46/400\n",
      "363/363 [==============================] - 0s 972us/step - loss: 0.3097 - val_loss: 0.3281\n",
      "Epoch 47/400\n",
      "363/363 [==============================] - 0s 981us/step - loss: 0.3080 - val_loss: 0.3283\n",
      "Epoch 48/400\n",
      "363/363 [==============================] - 0s 970us/step - loss: 0.3086 - val_loss: 0.3371\n",
      "Epoch 49/400\n",
      "363/363 [==============================] - 0s 967us/step - loss: 0.3090 - val_loss: 0.3284\n",
      "Epoch 50/400\n",
      "363/363 [==============================] - 0s 974us/step - loss: 0.3083 - val_loss: 0.3286\n",
      "Epoch 51/400\n",
      "363/363 [==============================] - 0s 1ms/step - loss: 0.3083 - val_loss: 0.3294\n",
      "Epoch 52/400\n",
      "363/363 [==============================] - 0s 984us/step - loss: 0.3106 - val_loss: 0.3291\n",
      "Epoch 53/400\n",
      "363/363 [==============================] - 0s 1ms/step - loss: 0.3084 - val_loss: 0.3293\n",
      "Epoch 54/400\n",
      "363/363 [==============================] - 0s 986us/step - loss: 0.3080 - val_loss: 0.3304\n"
     ]
    }
   ],
   "source": [
    "checkpoint_cb = keras.callbacks.ModelCheckpoint(\"my_keras_model.h5\",save_best_only = True)\n",
    "early_stopping = keras.callbacks.EarlyStopping(patience = 10,restore_best_weights = True)\n",
    "history = model.fit((X_train_A,X_train_B),y_train,epochs = 400,\n",
    "                   validation_data = ((X_valid_A,X_valid_B),y_valid),\n",
    "                   callbacks = [checkpoint_cb,early_stopping])\n",
    "\n",
    "model = keras.models.load_model(\"my_keras_model.h5\")"
   ]
  },
  {
   "cell_type": "code",
   "execution_count": 72,
   "metadata": {},
   "outputs": [
    {
     "data": {
      "image/png": "[encoded data removed]",
      "text/plain": [
       "<Figure size 720x504 with 1 Axes>"
      ]
     },
     "metadata": {
      "needs_background": "light"
     },
     "output_type": "display_data"
    }
   ],
   "source": [
    "pd.DataFrame(history.history).plot(figsize = (10,7))\n",
    "plt.grid(True)\n",
    "plt.gca().set_ylim(0,1)\n",
    "plt.show()"
   ]
  },
  {
   "cell_type": "markdown",
   "metadata": {},
   "source": [
    "## Tuning hyperparameters _is_ the game\n",
    "\n",
    "The art of finding a good neural network in deep learning, is simply finding a good _architecture_ for your model. Since the search space is so vast, you need to use a smart strategy to come up with nice hyperparameters.\n",
    "\n",
    "\n",
    "### Automating data preparation\n",
    "If this can be effectively automated, the only thing that remains is essentially data preparation.\n",
    "\n",
    "In order for automatic detection and structuring of data, what is needed over a datset is an orderd _filtration_ of the data points, that show when information was avaiable. Let the filtration be a function from a data points in $X$ to $\\mathbb{N}$. Then you are only alowed to use prediciton of a datapoint $x_i$ if $f(x_i) \\geq f(x_j)$."
   ]
  },
  {
   "cell_type": "markdown",
   "metadata": {},
   "source": [
    "# Training deep neural networks"
   ]
  },
  {
   "cell_type": "code",
   "execution_count": 75,
   "metadata": {},
   "outputs": [],
   "source": [
    "model = keras.models.Sequential([\n",
    "    keras.layers.Flatten(input_shape = [28,28]),\n",
    "    keras.layers.BatchNormalization(),\n",
    "    keras.layers.Dense(300,activation = 'elu',kernel_initializer = 'he_normal'),\n",
    "    keras.layers.BatchNormalization(),\n",
    "    keras.layers.Dense(100,activation = 'elu',kernel_initializer = 'he_normal'),\n",
    "    keras.layers.BatchNormalization(),\n",
    "    keras.layers.Dense(10,activation = 'softmax' )\n",
    "]\n",
    ")"
   ]
  },
  {
   "cell_type": "code",
   "execution_count": 76,
   "metadata": {},
   "outputs": [
    {
     "name": "stdout",
     "output_type": "stream",
     "text": [
      "Model: \"sequential_2\"\n",
      "_________________________________________________________________\n",
      "Layer (type)                 Output Shape              Param #   \n",
      "=================================================================\n",
      "flatten_3 (Flatten)          (None, 784)               0         \n",
      "_________________________________________________________________\n",
      "batch_normalization_5 (Batch (None, 784)               3136      \n",
      "_________________________________________________________________\n",
      "dense_23 (Dense)             (None, 300)               235500    \n",
      "_________________________________________________________________\n",
      "batch_normalization_6 (Batch (None, 300)               1200      \n",
      "_________________________________________________________________\n",
      "dense_24 (Dense)             (None, 100)               30100     \n",
      "_________________________________________________________________\n",
      "batch_normalization_7 (Batch (None, 100)               400       \n",
      "_________________________________________________________________\n",
      "dense_25 (Dense)             (None, 10)                1010      \n",
      "=================================================================\n",
      "Total params: 271,346\n",
      "Trainable params: 268,978\n",
      "Non-trainable params: 2,368\n",
      "_________________________________________________________________\n"
     ]
    }
   ],
   "source": [
    "model.summary()"
   ]
  }
 ],
 "metadata": {
  "kernelspec": {
   "display_name": "Python 3",
   "language": "python",
   "name": "python3"
  },
  "language_info": {
   "codemirror_mode": {
    "name": "ipython",
    "version": 3
   },
   "file_extension": ".py",
   "mimetype": "text/x-python",
   "name": "python",
   "nbconvert_exporter": "python",
   "pygments_lexer": "ipython3",
   "version": "3.7.1"
  }
 },
 "nbformat": 4,
 "nbformat_minor": 2
}
