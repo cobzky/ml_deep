{
 "cells": [
  {
   "cell_type": "code",
   "execution_count": 1,
   "metadata": {},
   "outputs": [],
   "source": [
    "import tensorflow as tf\n",
    "from tensorflow import keras"
   ]
  },
  {
   "cell_type": "code",
   "execution_count": 3,
   "metadata": {},
   "outputs": [
    {
     "data": {
      "text/plain": [
       "'2.3.0'"
      ]
     },
     "execution_count": 3,
     "metadata": {},
     "output_type": "execute_result"
    }
   ],
   "source": [
    "tf.__version__"
   ]
  },
  {
   "cell_type": "code",
   "execution_count": 4,
   "metadata": {},
   "outputs": [
    {
     "data": {
      "text/plain": [
       "'2.4.0'"
      ]
     },
     "execution_count": 4,
     "metadata": {},
     "output_type": "execute_result"
    }
   ],
   "source": [
    "keras.__version__"
   ]
  },
  {
   "cell_type": "markdown",
   "metadata": {},
   "source": [
    "# Data import"
   ]
  },
  {
   "cell_type": "code",
   "execution_count": 6,
   "metadata": {},
   "outputs": [
    {
     "name": "stdout",
     "output_type": "stream",
     "text": [
      "Downloading data from https://storage.googleapis.com/tensorflow/tf-keras-datasets/train-labels-idx1-ubyte.gz\n",
      "32768/29515 [=================================] - 0s 0us/step\n",
      "Downloading data from https://storage.googleapis.com/tensorflow/tf-keras-datasets/train-images-idx3-ubyte.gz\n",
      "26427392/26421880 [==============================] - 5s 0us/step\n",
      "Downloading data from https://storage.googleapis.com/tensorflow/tf-keras-datasets/t10k-labels-idx1-ubyte.gz\n",
      "8192/5148 [===============================================] - 0s 2us/step\n",
      "Downloading data from https://storage.googleapis.com/tensorflow/tf-keras-datasets/t10k-images-idx3-ubyte.gz\n",
      "4423680/4422102 [==============================] - 1s 0us/step\n"
     ]
    }
   ],
   "source": [
    "fashion_mnist = keras.datasets.fashion_mnist\n",
    "(X_train_full,y_train_full),(X_test,y_test) = fashion_mnist.load_data()"
   ]
  },
  {
   "cell_type": "code",
   "execution_count": 7,
   "metadata": {},
   "outputs": [
    {
     "data": {
      "text/plain": [
       "(60000, 28, 28)"
      ]
     },
     "execution_count": 7,
     "metadata": {},
     "output_type": "execute_result"
    }
   ],
   "source": [
    "X_train_full.shape"
   ]
  },
  {
   "cell_type": "code",
   "execution_count": 8,
   "metadata": {},
   "outputs": [
    {
     "data": {
      "text/plain": [
       "dtype('uint8')"
      ]
     },
     "execution_count": 8,
     "metadata": {},
     "output_type": "execute_result"
    }
   ],
   "source": [
    "X_train_full.dtype"
   ]
  },
  {
   "cell_type": "code",
   "execution_count": 11,
   "metadata": {},
   "outputs": [],
   "source": [
    "X_valid,X_train = X_train_full[:5000]/255.0,X_train_full[5000:]/255.0\n",
    "y_valid,y_train = y_train_full[:5000],y_train_full[5000:]\n",
    "X_test = X_test/255.0"
   ]
  },
  {
   "cell_type": "code",
   "execution_count": 13,
   "metadata": {},
   "outputs": [],
   "source": [
    "class_names = [\"T-shirt/Top\",\"Trouser\",\"Pullover\",\"Dress\",\"Coat\",\"Sandal\",\"Shirt\",\"Sneaker\",\"Bag\",\"Ankle boot\"]"
   ]
  },
  {
   "cell_type": "code",
   "execution_count": 14,
   "metadata": {},
   "outputs": [
    {
     "data": {
      "text/plain": [
       "'Coat'"
      ]
     },
     "execution_count": 14,
     "metadata": {},
     "output_type": "execute_result"
    }
   ],
   "source": [
    "class_names[y_train[0]]"
   ]
  },
  {
   "cell_type": "markdown",
   "metadata": {},
   "source": [
    "# Model building"
   ]
  },
  {
   "cell_type": "code",
   "execution_count": 34,
   "metadata": {},
   "outputs": [],
   "source": [
    "model = keras.models.Sequential()\n",
    "model.add(keras.layers.Flatten(input_shape = [28,28]))\n",
    "model.add(keras.layers.Dense(300,activation = \"relu\"))\n",
    "model.add(keras.layers.Dense(100,activation = \"relu\"))\n",
    "model.add(keras.layers.Dense(50,activation = \"relu\"))\n",
    "model.add(keras.layers.Dense(10,activation = \"softmax\"))"
   ]
  },
  {
   "cell_type": "code",
   "execution_count": 35,
   "metadata": {},
   "outputs": [
    {
     "name": "stdout",
     "output_type": "stream",
     "text": [
      "Model: \"sequential_2\"\n",
      "_________________________________________________________________\n",
      "Layer (type)                 Output Shape              Param #   \n",
      "=================================================================\n",
      "flatten_2 (Flatten)          (None, 784)               0         \n",
      "_________________________________________________________________\n",
      "dense_6 (Dense)              (None, 300)               235500    \n",
      "_________________________________________________________________\n",
      "dense_7 (Dense)              (None, 100)               30100     \n",
      "_________________________________________________________________\n",
      "dense_8 (Dense)              (None, 50)                5050      \n",
      "_________________________________________________________________\n",
      "dense_9 (Dense)              (None, 10)                510       \n",
      "=================================================================\n",
      "Total params: 271,160\n",
      "Trainable params: 271,160\n",
      "Non-trainable params: 0\n",
      "_________________________________________________________________\n"
     ]
    }
   ],
   "source": [
    "model.summary()"
   ]
  },
  {
   "cell_type": "code",
   "execution_count": 36,
   "metadata": {},
   "outputs": [
    {
     "data": {
      "text/plain": [
       "[<tensorflow.python.keras.layers.core.Flatten at 0x1ad340b4588>,\n",
       " <tensorflow.python.keras.layers.core.Dense at 0x1ad340b4a20>,\n",
       " <tensorflow.python.keras.layers.core.Dense at 0x1ad340b4fd0>,\n",
       " <tensorflow.python.keras.layers.core.Dense at 0x1ad340b4e80>,\n",
       " <tensorflow.python.keras.layers.core.Dense at 0x1ad03c43ef0>]"
      ]
     },
     "execution_count": 36,
     "metadata": {},
     "output_type": "execute_result"
    }
   ],
   "source": [
    "model.layers"
   ]
  },
  {
   "cell_type": "code",
   "execution_count": 37,
   "metadata": {},
   "outputs": [],
   "source": [
    "hidden1 = model.layers[1]"
   ]
  },
  {
   "cell_type": "code",
   "execution_count": 38,
   "metadata": {},
   "outputs": [
    {
     "data": {
      "text/plain": [
       "'dense_6'"
      ]
     },
     "execution_count": 38,
     "metadata": {},
     "output_type": "execute_result"
    }
   ],
   "source": [
    "hidden1.name"
   ]
  },
  {
   "cell_type": "code",
   "execution_count": 40,
   "metadata": {},
   "outputs": [
    {
     "data": {
      "text/plain": [
       "True"
      ]
     },
     "execution_count": 40,
     "metadata": {},
     "output_type": "execute_result"
    }
   ],
   "source": [
    "model.get_layer(\"dense_6\") is hidden1"
   ]
  },
  {
   "cell_type": "code",
   "execution_count": 41,
   "metadata": {},
   "outputs": [],
   "source": [
    "weights,biases = hidden1.get_weights()"
   ]
  },
  {
   "cell_type": "code",
   "execution_count": 42,
   "metadata": {},
   "outputs": [
    {
     "data": {
      "text/plain": [
       "array([[-0.00469381, -0.0278222 , -0.01899419, ...,  0.06899902,\n",
       "        -0.04775124,  0.02379005],\n",
       "       [ 0.04650929,  0.00333541,  0.04439558, ..., -0.05479831,\n",
       "        -0.04236915,  0.01844201],\n",
       "       [-0.07278273, -0.05006896, -0.0077229 , ...,  0.00670597,\n",
       "         0.05840525,  0.00204294],\n",
       "       ...,\n",
       "       [-0.0082125 ,  0.0398549 ,  0.05309498, ..., -0.04380633,\n",
       "         0.00808731,  0.04387659],\n",
       "       [-0.07109479, -0.03316416, -0.04846422, ...,  0.05218947,\n",
       "         0.07252842,  0.03508308],\n",
       "       [-0.02511024,  0.03832322,  0.04715234, ...,  0.06100605,\n",
       "        -0.01799443,  0.01731188]], dtype=float32)"
      ]
     },
     "execution_count": 42,
     "metadata": {},
     "output_type": "execute_result"
    }
   ],
   "source": [
    "weights"
   ]
  },
  {
   "cell_type": "code",
   "execution_count": 43,
   "metadata": {},
   "outputs": [
    {
     "data": {
      "text/plain": [
       "(784, 300)"
      ]
     },
     "execution_count": 43,
     "metadata": {},
     "output_type": "execute_result"
    }
   ],
   "source": [
    "weights.shape"
   ]
  },
  {
   "cell_type": "code",
   "execution_count": 44,
   "metadata": {},
   "outputs": [
    {
     "data": {
      "text/plain": [
       "array([0., 0., 0., 0., 0., 0., 0., 0., 0., 0., 0., 0., 0., 0., 0., 0., 0.,\n",
       "       0., 0., 0., 0., 0., 0., 0., 0., 0., 0., 0., 0., 0., 0., 0., 0., 0.,\n",
       "       0., 0., 0., 0., 0., 0., 0., 0., 0., 0., 0., 0., 0., 0., 0., 0., 0.,\n",
       "       0., 0., 0., 0., 0., 0., 0., 0., 0., 0., 0., 0., 0., 0., 0., 0., 0.,\n",
       "       0., 0., 0., 0., 0., 0., 0., 0., 0., 0., 0., 0., 0., 0., 0., 0., 0.,\n",
       "       0., 0., 0., 0., 0., 0., 0., 0., 0., 0., 0., 0., 0., 0., 0., 0., 0.,\n",
       "       0., 0., 0., 0., 0., 0., 0., 0., 0., 0., 0., 0., 0., 0., 0., 0., 0.,\n",
       "       0., 0., 0., 0., 0., 0., 0., 0., 0., 0., 0., 0., 0., 0., 0., 0., 0.,\n",
       "       0., 0., 0., 0., 0., 0., 0., 0., 0., 0., 0., 0., 0., 0., 0., 0., 0.,\n",
       "       0., 0., 0., 0., 0., 0., 0., 0., 0., 0., 0., 0., 0., 0., 0., 0., 0.,\n",
       "       0., 0., 0., 0., 0., 0., 0., 0., 0., 0., 0., 0., 0., 0., 0., 0., 0.,\n",
       "       0., 0., 0., 0., 0., 0., 0., 0., 0., 0., 0., 0., 0., 0., 0., 0., 0.,\n",
       "       0., 0., 0., 0., 0., 0., 0., 0., 0., 0., 0., 0., 0., 0., 0., 0., 0.,\n",
       "       0., 0., 0., 0., 0., 0., 0., 0., 0., 0., 0., 0., 0., 0., 0., 0., 0.,\n",
       "       0., 0., 0., 0., 0., 0., 0., 0., 0., 0., 0., 0., 0., 0., 0., 0., 0.,\n",
       "       0., 0., 0., 0., 0., 0., 0., 0., 0., 0., 0., 0., 0., 0., 0., 0., 0.,\n",
       "       0., 0., 0., 0., 0., 0., 0., 0., 0., 0., 0., 0., 0., 0., 0., 0., 0.,\n",
       "       0., 0., 0., 0., 0., 0., 0., 0., 0., 0., 0.], dtype=float32)"
      ]
     },
     "execution_count": 44,
     "metadata": {},
     "output_type": "execute_result"
    }
   ],
   "source": [
    "biases"
   ]
  },
  {
   "cell_type": "code",
   "execution_count": 45,
   "metadata": {},
   "outputs": [
    {
     "data": {
      "text/plain": [
       "(300,)"
      ]
     },
     "execution_count": 45,
     "metadata": {},
     "output_type": "execute_result"
    }
   ],
   "source": [
    "biases.shape"
   ]
  },
  {
   "cell_type": "code",
   "execution_count": 46,
   "metadata": {},
   "outputs": [],
   "source": [
    "model.compile(loss = \"sparse_categorical_crossentropy\",optimizer = \"sgd\",metrics = [\"accuracy\"])"
   ]
  },
  {
   "cell_type": "code",
   "execution_count": 47,
   "metadata": {},
   "outputs": [
    {
     "name": "stdout",
     "output_type": "stream",
     "text": [
      "Epoch 1/50\n",
      "1719/1719 [==============================] - 2s 1ms/step - loss: 0.7302 - accuracy: 0.7549 - val_loss: 0.5577 - val_accuracy: 0.7974\n",
      "Epoch 2/50\n",
      "1719/1719 [==============================] - 2s 1ms/step - loss: 0.4835 - accuracy: 0.8294 - val_loss: 0.4399 - val_accuracy: 0.8490\n",
      "Epoch 3/50\n",
      "1719/1719 [==============================] - 2s 1ms/step - loss: 0.4339 - accuracy: 0.8464 - val_loss: 0.4080 - val_accuracy: 0.8598\n",
      "Epoch 4/50\n",
      "1719/1719 [==============================] - 2s 1ms/step - loss: 0.4026 - accuracy: 0.8585 - val_loss: 0.3847 - val_accuracy: 0.8664\n",
      "Epoch 5/50\n",
      "1719/1719 [==============================] - 2s 1ms/step - loss: 0.3798 - accuracy: 0.8648 - val_loss: 0.3652 - val_accuracy: 0.8752\n",
      "Epoch 6/50\n",
      "1719/1719 [==============================] - 2s 1ms/step - loss: 0.3609 - accuracy: 0.8714 - val_loss: 0.3743 - val_accuracy: 0.8650\n",
      "Epoch 7/50\n",
      "1719/1719 [==============================] - 2s 1ms/step - loss: 0.3465 - accuracy: 0.8770 - val_loss: 0.3632 - val_accuracy: 0.8724\n",
      "Epoch 8/50\n",
      "1719/1719 [==============================] - 2s 1ms/step - loss: 0.3324 - accuracy: 0.8804 - val_loss: 0.3459 - val_accuracy: 0.8786\n",
      "Epoch 9/50\n",
      "1719/1719 [==============================] - 2s 1ms/step - loss: 0.3218 - accuracy: 0.8848 - val_loss: 0.3314 - val_accuracy: 0.8800\n",
      "Epoch 10/50\n",
      "1719/1719 [==============================] - 2s 1ms/step - loss: 0.3118 - accuracy: 0.8872 - val_loss: 0.3234 - val_accuracy: 0.8848\n",
      "Epoch 11/50\n",
      "1719/1719 [==============================] - 2s 1ms/step - loss: 0.3013 - accuracy: 0.8916 - val_loss: 0.3379 - val_accuracy: 0.8764\n",
      "Epoch 12/50\n",
      "1719/1719 [==============================] - 2s 1ms/step - loss: 0.2949 - accuracy: 0.8929 - val_loss: 0.3242 - val_accuracy: 0.8794\n",
      "Epoch 13/50\n",
      "1719/1719 [==============================] - 2s 1ms/step - loss: 0.2867 - accuracy: 0.8956 - val_loss: 0.3106 - val_accuracy: 0.8858\n",
      "Epoch 14/50\n",
      "1719/1719 [==============================] - 2s 1ms/step - loss: 0.2783 - accuracy: 0.8978 - val_loss: 0.3164 - val_accuracy: 0.8868\n",
      "Epoch 15/50\n",
      "1719/1719 [==============================] - 2s 1ms/step - loss: 0.2720 - accuracy: 0.9010 - val_loss: 0.3156 - val_accuracy: 0.8846\n",
      "Epoch 16/50\n",
      "1719/1719 [==============================] - 2s 1ms/step - loss: 0.2657 - accuracy: 0.9034 - val_loss: 0.3283 - val_accuracy: 0.8808\n",
      "Epoch 17/50\n",
      "1719/1719 [==============================] - 2s 1ms/step - loss: 0.2588 - accuracy: 0.9055 - val_loss: 0.3256 - val_accuracy: 0.8830\n",
      "Epoch 18/50\n",
      "1719/1719 [==============================] - 3s 1ms/step - loss: 0.2536 - accuracy: 0.9076 - val_loss: 0.3017 - val_accuracy: 0.8890\n",
      "Epoch 19/50\n",
      "1719/1719 [==============================] - 3s 1ms/step - loss: 0.2475 - accuracy: 0.9097 - val_loss: 0.3193 - val_accuracy: 0.8796\n",
      "Epoch 20/50\n",
      "1719/1719 [==============================] - 2s 1ms/step - loss: 0.2424 - accuracy: 0.9117 - val_loss: 0.3048 - val_accuracy: 0.8906\n",
      "Epoch 21/50\n",
      "1719/1719 [==============================] - 2s 1ms/step - loss: 0.2360 - accuracy: 0.9135 - val_loss: 0.3125 - val_accuracy: 0.8856\n",
      "Epoch 22/50\n",
      "1719/1719 [==============================] - 3s 1ms/step - loss: 0.2325 - accuracy: 0.9149 - val_loss: 0.3131 - val_accuracy: 0.8908\n",
      "Epoch 23/50\n",
      "1719/1719 [==============================] - 2s 1ms/step - loss: 0.2267 - accuracy: 0.9170 - val_loss: 0.3249 - val_accuracy: 0.8786\n",
      "Epoch 24/50\n",
      "1719/1719 [==============================] - 2s 1ms/step - loss: 0.2220 - accuracy: 0.9188 - val_loss: 0.2971 - val_accuracy: 0.8960\n",
      "Epoch 25/50\n",
      "1719/1719 [==============================] - 3s 1ms/step - loss: 0.2175 - accuracy: 0.9205 - val_loss: 0.2979 - val_accuracy: 0.8938\n",
      "Epoch 26/50\n",
      "1719/1719 [==============================] - 2s 1ms/step - loss: 0.2115 - accuracy: 0.9229 - val_loss: 0.3069 - val_accuracy: 0.8910\n",
      "Epoch 27/50\n",
      "1719/1719 [==============================] - 2s 1ms/step - loss: 0.2073 - accuracy: 0.9238 - val_loss: 0.3272 - val_accuracy: 0.8844\n",
      "Epoch 28/50\n",
      "1719/1719 [==============================] - 2s 1ms/step - loss: 0.2022 - accuracy: 0.9270 - val_loss: 0.3051 - val_accuracy: 0.8868\n",
      "Epoch 29/50\n",
      "1719/1719 [==============================] - 2s 1ms/step - loss: 0.1991 - accuracy: 0.9271 - val_loss: 0.3060 - val_accuracy: 0.8940\n",
      "Epoch 30/50\n",
      "1719/1719 [==============================] - 3s 1ms/step - loss: 0.1951 - accuracy: 0.9287 - val_loss: 0.3072 - val_accuracy: 0.8936\n",
      "Epoch 31/50\n",
      "1719/1719 [==============================] - 3s 2ms/step - loss: 0.1918 - accuracy: 0.9305 - val_loss: 0.2987 - val_accuracy: 0.8926\n",
      "Epoch 32/50\n",
      "1719/1719 [==============================] - 3s 1ms/step - loss: 0.1872 - accuracy: 0.9311 - val_loss: 0.3387 - val_accuracy: 0.8842\n",
      "Epoch 33/50\n",
      "1719/1719 [==============================] - 2s 1ms/step - loss: 0.1820 - accuracy: 0.9344 - val_loss: 0.3347 - val_accuracy: 0.8850\n",
      "Epoch 34/50\n",
      "1719/1719 [==============================] - 2s 1ms/step - loss: 0.1788 - accuracy: 0.9357 - val_loss: 0.3201 - val_accuracy: 0.8862\n",
      "Epoch 35/50\n",
      "1719/1719 [==============================] - 2s 1ms/step - loss: 0.1756 - accuracy: 0.9366 - val_loss: 0.3259 - val_accuracy: 0.8872\n",
      "Epoch 36/50\n",
      "1719/1719 [==============================] - 3s 1ms/step - loss: 0.1710 - accuracy: 0.9368 - val_loss: 0.3085 - val_accuracy: 0.8972\n",
      "Epoch 37/50\n",
      "1719/1719 [==============================] - 3s 2ms/step - loss: 0.1679 - accuracy: 0.9392 - val_loss: 0.3105 - val_accuracy: 0.8928\n",
      "Epoch 38/50\n",
      "1719/1719 [==============================] - 3s 2ms/step - loss: 0.1639 - accuracy: 0.9401 - val_loss: 0.3200 - val_accuracy: 0.8930\n",
      "Epoch 39/50\n",
      "1719/1719 [==============================] - 3s 2ms/step - loss: 0.1606 - accuracy: 0.9414 - val_loss: 0.3198 - val_accuracy: 0.8914\n",
      "Epoch 40/50\n",
      "1719/1719 [==============================] - 3s 2ms/step - loss: 0.1571 - accuracy: 0.9429 - val_loss: 0.3145 - val_accuracy: 0.8966\n",
      "Epoch 41/50\n",
      "1719/1719 [==============================] - 3s 2ms/step - loss: 0.1548 - accuracy: 0.9448 - val_loss: 0.3209 - val_accuracy: 0.8924\n",
      "Epoch 42/50\n",
      "1719/1719 [==============================] - 3s 1ms/step - loss: 0.1516 - accuracy: 0.9448 - val_loss: 0.3338 - val_accuracy: 0.8898\n",
      "Epoch 43/50\n",
      "1719/1719 [==============================] - 3s 1ms/step - loss: 0.1483 - accuracy: 0.9458 - val_loss: 0.4182 - val_accuracy: 0.8756\n",
      "Epoch 44/50\n",
      "1719/1719 [==============================] - 2s 1ms/step - loss: 0.1440 - accuracy: 0.9474 - val_loss: 0.3210 - val_accuracy: 0.8968\n",
      "Epoch 45/50\n",
      "1719/1719 [==============================] - 2s 1ms/step - loss: 0.1425 - accuracy: 0.9476 - val_loss: 0.3203 - val_accuracy: 0.8964\n",
      "Epoch 46/50\n",
      "1719/1719 [==============================] - 3s 1ms/step - loss: 0.1398 - accuracy: 0.9501 - val_loss: 0.3216 - val_accuracy: 0.8932\n",
      "Epoch 47/50\n",
      "1719/1719 [==============================] - 3s 2ms/step - loss: 0.1351 - accuracy: 0.9501 - val_loss: 0.3396 - val_accuracy: 0.8894\n",
      "Epoch 48/50\n",
      "1719/1719 [==============================] - 3s 2ms/step - loss: 0.1330 - accuracy: 0.9518 - val_loss: 0.3440 - val_accuracy: 0.8892 loss: 0\n",
      "Epoch 49/50\n",
      "1719/1719 [==============================] - 3s 2ms/step - loss: 0.1303 - accuracy: 0.9527 - val_loss: 0.3323 - val_accuracy: 0.8942\n",
      "Epoch 50/50\n",
      "1719/1719 [==============================] - 3s 1ms/step - loss: 0.1273 - accuracy: 0.9529 - val_loss: 0.3814 - val_accuracy: 0.8874\n"
     ]
    }
   ],
   "source": [
    "history = model.fit(X_train,y_train,epochs = 50,validation_data = (X_valid,y_valid))"
   ]
  },
  {
   "cell_type": "code",
   "execution_count": 48,
   "metadata": {},
   "outputs": [],
   "source": [
    "import pandas as pd\n",
    "import matplotlib.pyplot as plt"
   ]
  },
  {
   "cell_type": "code",
   "execution_count": 49,
   "metadata": {},
   "outputs": [
    {
     "data": {
      "image/png": "[encoded data removed]",
      "text/plain": [
       "<Figure size 720x504 with 1 Axes>"
      ]
     },
     "metadata": {
      "needs_background": "light"
     },
     "output_type": "display_data"
    }
   ],
   "source": [
    "pd.DataFrame(history.history).plot(figsize = (10,7))\n",
    "plt.grid(True)\n",
    "plt.gca().set_ylim(0,1)\n",
    "plt.show()"
   ]
  },
  {
   "cell_type": "code",
   "execution_count": 50,
   "metadata": {},
   "outputs": [],
   "source": [
    "X_new = X_test[:3]"
   ]
  },
  {
   "cell_type": "code",
   "execution_count": 51,
   "metadata": {},
   "outputs": [],
   "source": [
    "y_proba = model.predict(X_new)"
   ]
  },
  {
   "cell_type": "code",
   "execution_count": 52,
   "metadata": {},
   "outputs": [
    {
     "data": {
      "text/plain": [
       "array([[0.  , 0.  , 0.  , 0.  , 0.  , 0.  , 0.  , 0.01, 0.  , 0.99],\n",
       "       [0.  , 0.  , 1.  , 0.  , 0.  , 0.  , 0.  , 0.  , 0.  , 0.  ],\n",
       "       [0.  , 1.  , 0.  , 0.  , 0.  , 0.  , 0.  , 0.  , 0.  , 0.  ]],\n",
       "      dtype=float32)"
      ]
     },
     "execution_count": 52,
     "metadata": {},
     "output_type": "execute_result"
    }
   ],
   "source": [
    "y_proba.round(2)"
   ]
  },
  {
   "cell_type": "markdown",
   "metadata": {},
   "source": [
    "# MLP regression"
   ]
  },
  {
   "cell_type": "code",
   "execution_count": null,
   "metadata": {},
   "outputs": [],
   "source": []
  }
 ],
 "metadata": {
  "kernelspec": {
   "display_name": "Python 3",
   "language": "python",
   "name": "python3"
  },
  "language_info": {
   "codemirror_mode": {
    "name": "ipython",
    "version": 3
   },
   "file_extension": ".py",
   "mimetype": "text/x-python",
   "name": "python",
   "nbconvert_exporter": "python",
   "pygments_lexer": "ipython3",
   "version": "3.7.1"
  }
 },
 "nbformat": 4,
 "nbformat_minor": 2
}
